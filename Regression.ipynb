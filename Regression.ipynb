{
 "cells": [
  {
   "cell_type": "markdown",
   "metadata": {},
   "source": [
    "## Алгоритм Decision Tree для регрессии"
   ]
  },
  {
   "cell_type": "code",
   "execution_count": 1,
   "metadata": {},
   "outputs": [],
   "source": [
    "from sklearn import datasets\n",
    "from sklearn.model_selection import train_test_split\n",
    "import numpy as np\n",
    "\n",
    "X, y = datasets.make_regression(n_samples=500)\n",
    "X_train, X_test, y_train, y_test = train_test_split(X, y)"
   ]
  },
  {
   "cell_type": "code",
   "execution_count": 2,
   "metadata": {
    "code_folding": []
   },
   "outputs": [],
   "source": [
    "class Node:\n",
    "    def __init__(self, feature=None, threshold=None, left=None, right=None, *, value=None):\n",
    "        self.feature = feature\n",
    "        self.threshold = threshold\n",
    "        self.left = left\n",
    "        self.right = right\n",
    "        self.value = value\n",
    "    \n",
    "    def is_leaf_node(self):\n",
    "        return self.value is not None"
   ]
  },
  {
   "cell_type": "code",
   "execution_count": 3,
   "metadata": {
    "code_folding": []
   },
   "outputs": [],
   "source": [
    "class DecisionTree:\n",
    "    def __init__(self, max_depth=20, min_samples=10):\n",
    "        self.max_depth = max_depth\n",
    "        self.min_samples = min_samples\n",
    "        self.tree = []\n",
    "    \n",
    "    def fit(self, X, y):\n",
    "        self.tree = self.grow_tree(X, y)\n",
    "    \n",
    "    def predict(self, X):\n",
    "        return np.array([self.travers_tree(x, self.tree) for x in X])\n",
    "    \n",
    "    def most_common(self, y):\n",
    "        return np.sum(y) / len(y)\n",
    "    \n",
    "    def entropy(self, y):  \n",
    "        predict = np.sum(y) / len(y)\n",
    "        mse = np.sum((predict - y)**2) / len(y)\n",
    "        mae = np.sum(np.abs(predict - y)) / len(y)\n",
    "        return mae\n",
    "    \n",
    "    def best_split(self, X, y):\n",
    "        best_feature, best_threshold = None, None\n",
    "        best_gain = -1\n",
    "        \n",
    "        for i in range(X.shape[1]):\n",
    "            thresholds = np.unique(X[:, i])\n",
    "            for threshold in thresholds:\n",
    "                gain = self.information_gain(X[:, i], y, threshold)\n",
    "                if gain > best_gain:\n",
    "                    best_gain = gain\n",
    "                    best_feature = i\n",
    "                    best_threshold = threshold\n",
    "        return best_feature, best_threshold\n",
    "    \n",
    "    def information_gain(self, X_column, y, threshold):       \n",
    "        n = len(y)\n",
    "        parent = self.entropy(y)\n",
    "        \n",
    "        left_indexes = np.argwhere(X_column <= threshold).flatten()\n",
    "        right_indexes = np.argwhere(X_column > threshold).flatten()\n",
    "        \n",
    "        child = 0 \n",
    "        \n",
    "        if len(left_indexes) != 0:\n",
    "            e_l, n_l = self.entropy(y[left_indexes]), len(left_indexes)\n",
    "            child += (n_l / n) * e_l\n",
    "        if len(right_indexes) != 0:\n",
    "            e_r, n_r = self.entropy(y[right_indexes]), len(right_indexes)\n",
    "            child += (n_r / n) * e_r\n",
    "            \n",
    "        return parent - child\n",
    "    \n",
    "    def grow_tree(self, X, y, depth=0):\n",
    "        n_samples = X.shape[0]\n",
    "        \n",
    "        if n_samples <= self.min_samples or depth >= self.max_depth:\n",
    "            return Node(value=self.most_common(y))\n",
    "        \n",
    "        best_feature, best_threshold = self.best_split(X, y)\n",
    "        \n",
    "        left_indexes = np.argwhere(X[:, best_feature] <= best_threshold).flatten()\n",
    "        right_indexes = np.argwhere(X[:, best_feature] > best_threshold).flatten()\n",
    "        \n",
    "        if len(left_indexes) == 0 or len(right_indexes) == 0:\n",
    "            return Node(value=self.most_common(y))\n",
    "        \n",
    "        left = self.grow_tree(X[left_indexes, :], y[left_indexes], depth+1)\n",
    "        right = self.grow_tree(X[right_indexes, :], y[right_indexes], depth+1)\n",
    "        \n",
    "        return Node(best_feature, best_threshold, left, right)\n",
    "    \n",
    "    def travers_tree(self, x, tree):\n",
    "        if tree.is_leaf_node():\n",
    "            return tree.value\n",
    "        \n",
    "        if x[tree.feature] <= tree.threshold:\n",
    "            return self.travers_tree(x, tree.left)\n",
    "        return self.travers_tree(x, tree.right)"
   ]
  },
  {
   "cell_type": "code",
   "execution_count": 4,
   "metadata": {},
   "outputs": [],
   "source": [
    "clf = DecisionTree()\n",
    "clf.fit(X_train, y_train)"
   ]
  },
  {
   "cell_type": "code",
   "execution_count": 5,
   "metadata": {
    "scrolled": true
   },
   "outputs": [],
   "source": [
    "predicted = clf.predict(X_test)"
   ]
  },
  {
   "cell_type": "code",
   "execution_count": 6,
   "metadata": {},
   "outputs": [
    {
     "data": {
      "text/plain": [
       "0.13479793987440958"
      ]
     },
     "execution_count": 6,
     "metadata": {},
     "output_type": "execute_result"
    }
   ],
   "source": [
    "1 - np.sum((predicted - y_test)**2) / np.sum((y_test.mean() - y_test)**2)"
   ]
  },
  {
   "cell_type": "code",
   "execution_count": null,
   "metadata": {},
   "outputs": [],
   "source": []
  }
 ],
 "metadata": {
  "kernelspec": {
   "display_name": "Python 3",
   "language": "python",
   "name": "python3"
  },
  "language_info": {
   "codemirror_mode": {
    "name": "ipython",
    "version": 3
   },
   "file_extension": ".py",
   "mimetype": "text/x-python",
   "name": "python",
   "nbconvert_exporter": "python",
   "pygments_lexer": "ipython3",
   "version": "3.8.3"
  },
  "toc": {
   "base_numbering": 1,
   "nav_menu": {},
   "number_sections": true,
   "sideBar": true,
   "skip_h1_title": false,
   "title_cell": "Table of Contents",
   "title_sidebar": "Contents",
   "toc_cell": false,
   "toc_position": {},
   "toc_section_display": true,
   "toc_window_display": false
  },
  "varInspector": {
   "cols": {
    "lenName": 16,
    "lenType": 16,
    "lenVar": 40
   },
   "kernels_config": {
    "python": {
     "delete_cmd_postfix": "",
     "delete_cmd_prefix": "del ",
     "library": "var_list.py",
     "varRefreshCmd": "print(var_dic_list())"
    },
    "r": {
     "delete_cmd_postfix": ") ",
     "delete_cmd_prefix": "rm(",
     "library": "var_list.r",
     "varRefreshCmd": "cat(var_dic_list()) "
    }
   },
   "types_to_exclude": [
    "module",
    "function",
    "builtin_function_or_method",
    "instance",
    "_Feature"
   ],
   "window_display": false
  }
 },
 "nbformat": 4,
 "nbformat_minor": 4
}
